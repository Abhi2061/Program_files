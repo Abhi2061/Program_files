{
 "cells": [
  {
   "cell_type": "code",
   "execution_count": 1,
   "id": "1e03edf5",
   "metadata": {},
   "outputs": [
    {
     "name": "stdout",
     "output_type": "stream",
     "text": [
      "arr1 : \n",
      "[[1 2 3]\n",
      " [4 5 6]\n",
      " [7 8 9]]\n",
      "\n",
      "arr2 : \n",
      "[[10 11 12]\n",
      " [13 14 15]\n",
      " [16 17 18]]\n",
      "\n",
      "Sum : \n",
      "[[11 13 15]\n",
      " [17 19 21]\n",
      " [23 25 27]]\n",
      "\n",
      "Difference : \n",
      "[[-9 -9 -9]\n",
      " [-9 -9 -9]\n",
      " [-9 -9 -9]]\n",
      "\n",
      "Product : \n",
      "[[ 10  22  36]\n",
      " [ 52  70  90]\n",
      " [112 136 162]]\n",
      "\n",
      "Division : \n",
      "[[0.1        0.18181818 0.25      ]\n",
      " [0.30769231 0.35714286 0.4       ]\n",
      " [0.4375     0.47058824 0.5       ]]\n",
      "\n",
      " Transpose of arr1 : \n",
      "[[1 4 7]\n",
      " [2 5 8]\n",
      " [3 6 9]]\n"
     ]
    }
   ],
   "source": [
    "import numpy as np\n",
    "\n",
    "arr1 = np.array([[1,2,3],[4,5,6],[7,8,9]])\n",
    "arr2 = np.array([[10,11,12],[13,14,15],[16,17,18]])\n",
    "\n",
    "Sum = np.add(arr1,arr2)\n",
    "Diff = np.subtract(arr1,arr2)\n",
    "Mul = np.multiply(arr1,arr2)\n",
    "Div = np.divide(arr1,arr2)\n",
    "Trans = np.transpose(arr1)\n",
    "\n",
    "print(\"arr1 : \")\n",
    "print(arr1)\n",
    "\n",
    "print(\"\\narr2 : \")\n",
    "print(arr2)\n",
    "\n",
    "print(\"\\nSum : \")\n",
    "print(Sum)\n",
    "\n",
    "print(\"\\nDifference : \")\n",
    "print(Diff)\n",
    "\n",
    "print(\"\\nProduct : \")\n",
    "print(Mul)\n",
    "\n",
    "print(\"\\nDivision : \")\n",
    "print(Div)\n",
    "\n",
    "print(\"\\n Transpose of arr1 : \")\n",
    "print(Trans)"
   ]
  },
  {
   "cell_type": "code",
   "execution_count": 4,
   "id": "e91fd0e4",
   "metadata": {},
   "outputs": [
    {
     "name": "stdout",
     "output_type": "stream",
     "text": [
      "[7 9 11 13 15]\n",
      "<class 'numpy.ufunc'>\n"
     ]
    }
   ],
   "source": [
    "import numpy as np\n",
    "\n",
    "def myAdd(x,y):\n",
    "    return x+y\n",
    "\n",
    "my_add = np.frompyfunc(myAdd,2, 1)\n",
    "\n",
    "arr1 = np.array([1,2,3,4,5])\n",
    "arr2 = np.array([6,7,8,9,10])\n",
    "\n",
    "print(my_add(arr1, arr2))\n",
    "\n",
    "print(type(my_add))"
   ]
  },
  {
   "cell_type": "code",
   "execution_count": 3,
   "id": "c4a38989",
   "metadata": {},
   "outputs": [
    {
     "name": "stdout",
     "output_type": "stream",
     "text": [
      "Before Swapping :\n",
      "[[ 0  1  2  3]\n",
      " [ 4  5  6  7]\n",
      " [ 8  9 10 11]\n",
      " [12 13 14 15]]\n",
      "\n",
      "After Swapping :\n",
      "\n",
      "[[ 0  3  2  1]\n",
      " [ 4  7  6  5]\n",
      " [ 8 11 10  9]\n",
      " [12 15 14 13]]\n"
     ]
    }
   ],
   "source": [
    "import numpy as np\n",
    "\n",
    "arr = np.arange(16).reshape(4,4)\n",
    "\n",
    "print(\"Before Swapping :\")\n",
    "print(arr)\n",
    "\n",
    "print(\"\\nAfter Swapping :\\n\")\n",
    "arr[:,[1,3]] = arr[:,[3,1]]\n",
    "\n",
    "print(arr)"
   ]
  },
  {
   "cell_type": "code",
   "execution_count": 3,
   "id": "d95ef6e3",
   "metadata": {},
   "outputs": [
    {
     "name": "stdout",
     "output_type": "stream",
     "text": [
      "[    100    1331   20736  371293 7529536]\n"
     ]
    }
   ],
   "source": [
    "import numpy as np\n",
    "\n",
    "base = np.array([10,11,12,13,14])\n",
    "Power = np.array([2,3,4,5,6])\n",
    "\n",
    "ans = np.power(base, Power)\n",
    "\n",
    "print(ans)"
   ]
  },
  {
   "cell_type": "code",
   "execution_count": 3,
   "id": "f4e96742",
   "metadata": {},
   "outputs": [
    {
     "name": "stdout",
     "output_type": "stream",
     "text": [
      "<class 'numpy.ufunc'>\n"
     ]
    }
   ],
   "source": [
    "import numpy as np\n",
    "\n",
    "print(type(np.add))"
   ]
  },
  {
   "cell_type": "code",
   "execution_count": 15,
   "id": "88a98741",
   "metadata": {},
   "outputs": [
    {
     "name": "stdout",
     "output_type": "stream",
     "text": [
      "[-2. 86.]\n"
     ]
    }
   ],
   "source": [
    "import numpy as np\n",
    "\n",
    "arr = np.array([-2.85, 85.24849])\n",
    "\n",
    "# arr = np.trunc(arr)\n",
    "# arr = np.round(arr)\n",
    "# arr = np.fix(arr)\n",
    "# arr = np.around(arr,1)\n",
    "arr = np.ceil(arr)\n",
    "\n",
    "print(arr)"
   ]
  },
  {
   "cell_type": "code",
   "execution_count": 16,
   "id": "4443f55b",
   "metadata": {},
   "outputs": [
    {
     "name": "stdout",
     "output_type": "stream",
     "text": [
      "[0 1 2 3 4]\n",
      "[[0]\n",
      " [1]\n",
      " [2]\n",
      " [3]\n",
      " [4]]\n",
      "[[ 0  0  0  0  0]\n",
      " [ 0  1  2  3  4]\n",
      " [ 0  2  4  6  8]\n",
      " [ 0  3  6  9 12]\n",
      " [ 0  4  8 12 16]]\n"
     ]
    }
   ],
   "source": [
    "import numpy as np\n",
    "\n",
    "a = np.arange(5)\n",
    "b = np.arange(5)[: ,np.newaxis]\n",
    "\n",
    "print(a)\n",
    "print(b)\n",
    "\n",
    "c = a*b\n",
    "\n",
    "print(c)"
   ]
  }
 ],
 "metadata": {
  "kernelspec": {
   "display_name": "Python 3.8.10 64-bit",
   "language": "python",
   "name": "python3"
  },
  "language_info": {
   "codemirror_mode": {
    "name": "ipython",
    "version": 3
   },
   "file_extension": ".py",
   "mimetype": "text/x-python",
   "name": "python",
   "nbconvert_exporter": "python",
   "pygments_lexer": "ipython3",
   "version": "3.8.10"
  },
  "vscode": {
   "interpreter": {
    "hash": "916dbcbb3f70747c44a77c7bcd40155683ae19c65e1c03b4aa3499c5328201f1"
   }
  }
 },
 "nbformat": 4,
 "nbformat_minor": 5
}
