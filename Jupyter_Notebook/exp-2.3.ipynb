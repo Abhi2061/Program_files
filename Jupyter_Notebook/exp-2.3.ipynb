{
 "cells": [
  {
   "cell_type": "code",
   "execution_count": 2,
   "metadata": {},
   "outputs": [
    {
     "name": "stdout",
     "output_type": "stream",
     "text": [
      "GCD of  19  and  20  is :  1\n",
      "LCM of  19  and  20  is :  380\n"
     ]
    }
   ],
   "source": [
    "def gcd(num1, num2):\n",
    "\n",
    "    if(num1 < num2):\n",
    "        return gcd(num2, num1)\n",
    "\n",
    "    if(num1 % num2 == 0):\n",
    "        return num2\n",
    "\n",
    "    return gcd(num2, num1%num2)\n",
    "\n",
    "def lcm(num1, num2):\n",
    "\n",
    "    ans = num1\n",
    "\n",
    "    while(ans % num1 or ans % num2):\n",
    "        ans += num1\n",
    "\n",
    "    return ans\n",
    "\n",
    "num1 = int(input(\"Enter the first number : \"))\n",
    "num2 = int(input(\"Enter the second number : \"))\n",
    "\n",
    "print(\"GCD of \", num1 , \" and \", num2 , \" is : \" , gcd(num1, num2))\n",
    "print(\"LCM of \", num1 , \" and \", num2 , \" is : \" , lcm(num1, num2))"
   ]
  },
  {
   "cell_type": "code",
   "execution_count": 7,
   "metadata": {},
   "outputs": [
    {
     "name": "stdout",
     "output_type": "stream",
     "text": [
      "There is no Armstrong number in the given range\n"
     ]
    }
   ],
   "source": [
    "def isArmstrong(num):\n",
    "    temp = num\n",
    "    sum = 0\n",
    "\n",
    "    while(temp > 0):\n",
    "        digit = temp%10\n",
    "        temp = temp // 10\n",
    "        sum = sum + (digit ** 3)\n",
    "\n",
    "    if(num == sum):\n",
    "        return True\n",
    "\n",
    "    return False\n",
    "\n",
    "L = int(input(\"Enter the starting value of range : \"))\n",
    "R = int(input(\"Enter the ending value of range : \"))\n",
    "\n",
    "Min = R+1\n",
    "Max = L-1\n",
    "\n",
    "for i in range(L, R+1):\n",
    "    if(isArmstrong(i)):\n",
    "        Min = min(Min, i)\n",
    "        Max = max(Max, i)\n",
    "\n",
    "if(Min > R):\n",
    "    print(\"There is no Armstrong number in the given range\")\n",
    "\n",
    "else:\n",
    "    print(\"In the given range, \\nSmallest Armstrong Number : \", Min)\n",
    "    print(\"Largest Armstrong Number : \", Max)"
   ]
  },
  {
   "cell_type": "code",
   "execution_count": 10,
   "metadata": {},
   "outputs": [
    {
     "name": "stdout",
     "output_type": "stream",
     "text": [
      "Enter the first number : 43\n",
      "Enter the second number : 86\n",
      "GCD of  43  and  86  is :  1\n",
      "LCM of  43  and  86  is :  86\n"
     ]
    }
   ],
   "source": [
    "def my_gcd(num1, num2):\n",
    "    \n",
    "    ans = 1\n",
    "    \n",
    "    for i in range(1, min(num1, num2)+1):\n",
    "        if(num1%i == 0 and num2%i == 0):\n",
    "            ans = i\n",
    "    \n",
    "    return ans\n",
    "\n",
    "def my_lcm(num1, num2):\n",
    "    \n",
    "    ans = max(num1, num2)\n",
    "    \n",
    "    while(ans%num1 or ans%num2):\n",
    "        ans += 1\n",
    "        \n",
    "    return ans\n",
    "\n",
    "num1 = int(input(\"Enter the first number : \"))\n",
    "num2 = int(input(\"Enter the second number : \"))\n",
    "\n",
    "print(\"GCD of \", num1 , \" and \", num2 , \" is : \" , my_gcd(num1, num2))\n",
    "print(\"LCM of \", num1 , \" and \", num2 , \" is : \" , my_lcm(num1, num2))"
   ]
  },
  {
   "cell_type": "code",
   "execution_count": null,
   "metadata": {},
   "outputs": [],
   "source": []
  }
 ],
 "metadata": {
  "kernelspec": {
   "display_name": "Python 3",
   "language": "python",
   "name": "python3"
  },
  "language_info": {
   "codemirror_mode": {
    "name": "ipython",
    "version": 3
   },
   "file_extension": ".py",
   "mimetype": "text/x-python",
   "name": "python",
   "nbconvert_exporter": "python",
   "pygments_lexer": "ipython3",
   "version": "3.8.10"
  },
  "vscode": {
   "interpreter": {
    "hash": "916dbcbb3f70747c44a77c7bcd40155683ae19c65e1c03b4aa3499c5328201f1"
   }
  }
 },
 "nbformat": 4,
 "nbformat_minor": 2
}
